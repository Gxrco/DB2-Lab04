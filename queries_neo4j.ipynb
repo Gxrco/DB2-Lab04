{
 "cells": [
  {
   "cell_type": "markdown",
   "metadata": {},
   "source": [
    "# Laboratorio 04 | The Games of Nodes Part II\n",
    "\n",
    "Agregaciones en Neo4j (Cypher) usando Count, Collect y Size\n",
    "\n",
    "## Configuración del entorno"
   ]
  },
  {
   "cell_type": "code",
   "execution_count": 19,
   "metadata": {},
   "outputs": [],
   "source": [
    "from neo4j import GraphDatabase\n",
    "from dotenv import load_dotenv\n",
    "import os"
   ]
  },
  {
   "cell_type": "code",
   "execution_count": 20,
   "metadata": {},
   "outputs": [],
   "source": [
    "load_dotenv()\n",
    "\n",
    "URI = os.getenv(\"NEO4J_URI\")\n",
    "AUTH = (os.getenv(\"NEO4J_USERNAME\"), os.getenv(\"NEO4J_PASSWORD\"))\n",
    "\n",
    "driver = GraphDatabase.driver(URI, auth=AUTH)\n",
    "\n",
    "def close_connection():\n",
    "    driver.close()\n",
    "\n",
    "def verify_connection():\n",
    "    try:\n",
    "        driver.verify_connectivity()\n",
    "        print(\"Connection verified\")\n",
    "        with driver.session() as session:\n",
    "            result = session.run(\"RETURN 1 AS value\")\n",
    "            value = result.single()[\"value\"]\n",
    "            print(\"Connection successful. Result:\", value)\n",
    "    except Exception as e:\n",
    "        print(\"Connection failed:\", e)"
   ]
  },
  {
   "cell_type": "markdown",
   "metadata": {},
   "source": [
    "### Verificar la conexión"
   ]
  },
  {
   "cell_type": "code",
   "execution_count": 21,
   "metadata": {},
   "outputs": [
    {
     "name": "stdout",
     "output_type": "stream",
     "text": [
      "Connection verified\n",
      "Connection successful. Result: 1\n"
     ]
    }
   ],
   "source": [
    "verify_connection()\n",
    "# close_connection()"
   ]
  },
  {
   "cell_type": "markdown",
   "metadata": {},
   "source": [
    "# 🔎 Acto 01: El Descenso de los Cineastas\n",
    "Somos detectives de datos en NeoCity, donde cada persona, lugar y evento está conectado en un vasto grafo. Últimamente, la comunidad de cineastas ha visto una caída en el número de directores activos, y nos han contratado para averiguar por qué."
   ]
  },
  {
   "cell_type": "markdown",
   "metadata": {},
   "source": [
    "### **Investigación 1:** Determinar la cantidad de cineastas antes y después de 2010\n",
    "- **Objetivo:** Determinar cuántos cineastas han ingresado a la industria antes y después del 2010."
   ]
  },
  {
   "cell_type": "code",
   "execution_count": 22,
   "metadata": {},
   "outputs": [
    {
     "name": "stdout",
     "output_type": "stream",
     "text": [
      "Cineastas antes de 2010: 6\n",
      "Cineastas después de 2010: 4\n"
     ]
    }
   ],
   "source": [
    "def get_arround_2010():\n",
    "  query1 = \"\"\"\n",
    "    MATCH (p:Person)\n",
    "    WHERE p.yearJoined < 2010\n",
    "    RETURN COUNT(p) AS CineastasAntes\n",
    "  \"\"\"\n",
    "  query2 = \"\"\"\n",
    "    MATCH (p:Person)\n",
    "    WHERE p.yearJoined >= 2010\n",
    "    RETURN COUNT(p) AS CineastasDespues\n",
    "  \"\"\"\n",
    "  with driver.session() as session:\n",
    "    result1 = session.run(query1)\n",
    "    cineastas_antes = result1.single()[\"CineastasAntes\"]\n",
    "    \n",
    "    result2 = session.run(query2)\n",
    "    cineastas_despues = result2.single()[\"CineastasDespues\"]\n",
    "    \n",
    "    return cineastas_antes, cineastas_despues\n",
    "\n",
    "cineastas_antes_2010, cineastas_despues_2010 = get_arround_2010()\n",
    "print(\"Cineastas antes de 2010:\", cineastas_antes_2010)\n",
    "print(\"Cineastas después de 2010:\", cineastas_despues_2010)"
   ]
  },
  {
   "cell_type": "markdown",
   "metadata": {},
   "source": [
    ">Pista revelada: Se ha determinado una notable disminución en la contratación de nuevos cineastas después de 2010."
   ]
  },
  {
   "cell_type": "markdown",
   "metadata": {},
   "source": [
    "### **Investigación 2:** Analizar los cambios en la industria con base en los géneros\n",
    "- **Objetivo:** Investigar los cambios en la industria que podrían estar relacionados con los géneros de las películas. Uso de COUNT()."
   ]
  },
  {
   "cell_type": "code",
   "execution_count": 28,
   "metadata": {},
   "outputs": [
    {
     "name": "stdout",
     "output_type": "stream",
     "text": [
      "Genero: Drama, NumPeliculas: 6\n",
      "Genero: Acción, NumPeliculas: 6\n",
      "Genero: Suspenso, NumPeliculas: 5\n",
      "Genero: Ciencia Ficción, NumPeliculas: 4\n",
      "Genero: Terror, NumPeliculas: 3\n",
      "Genero: Comedia, NumPeliculas: 1\n"
     ]
    }
   ],
   "source": [
    "def get_movie_genres_count():\n",
    "  query = \"\"\"\n",
    "  MATCH (m:Movie)-[:BELONGS_TO]->(g:Genre)\n",
    "  RETURN g.name AS Genero, COUNT(m) AS NumPeliculas\n",
    "  ORDER BY NumPeliculas DESC\n",
    "  \"\"\"\n",
    "  with driver.session() as session:\n",
    "    result = session.run(query)\n",
    "    genres_count = [{\"Genero\": record[\"Genero\"], \"NumPeliculas\": record[\"NumPeliculas\"]} for record in result]\n",
    "    return genres_count\n",
    "\n",
    "movie_genres_count = get_movie_genres_count()\n",
    "\n",
    "for genre in movie_genres_count:\n",
    "    print(f\"Genero: {genre['Genero']}, NumPeliculas: {genre['NumPeliculas']}\")"
   ]
  },
  {
   "cell_type": "markdown",
   "metadata": {},
   "source": [
    ">Pista revelada: Se observa que algunos géneros, como el suspenso y la acción, han visto un aumento en producción, mientras que otros han decaído."
   ]
  },
  {
   "cell_type": "markdown",
   "metadata": {},
   "source": [
    "###  **Investigación 3:** ¿Cómo ha afectado la disminución de cineastas a las colaboraciones?\n",
    "- Objetivo: Investigar si la disminución de cineastas ha afectado la colaboración dentro de la comunidad. Uso de COUNT()."
   ]
  },
  {
   "cell_type": "code",
   "execution_count": 34,
   "metadata": {},
   "outputs": [
    {
     "name": "stdout",
     "output_type": "stream",
     "text": [
      "Colaboraciones entre cineastas: 9\n"
     ]
    }
   ],
   "source": [
    "def get_collaborations_count():\n",
    "  query = \"\"\"\n",
    "  MATCH (p:Person)-[:COLLABORATED_WITH]->(colleague)\n",
    "  RETURN COUNT(DISTINCT p) AS CineastasColaborando\n",
    "  \"\"\"\n",
    "  with driver.session() as session:\n",
    "    result = session.run(query)\n",
    "    collaborations_count = result.single()[\"CineastasColaborando\"]\n",
    "    return collaborations_count\n",
    "\n",
    "collaborations_count = get_collaborations_count()\n",
    "print(\"Colaboraciones entre cineastas:\", collaborations_count)"
   ]
  },
  {
   "cell_type": "markdown",
   "metadata": {},
   "source": [
    ">Pista revelada: Las colaboraciones han aumentado, lo que sugiere que la comunidad cinematográfica es más unida y competitiva que antes."
   ]
  },
  {
   "cell_type": "markdown",
   "metadata": {},
   "source": [
    "## **🎭 Acto 02: Los Vínculos Ocultos**\n",
    "Con pistas sobre la **disminución de cineastas** y **cambios en la industria**, buscamos **profundizar en las conexiones** de los cineastas para entender mejor la situación."
   ]
  },
  {
   "cell_type": "markdown",
   "metadata": {},
   "source": [
    "### **Investigación 4:** Agrupar cineastas por año de unión\n",
    "\n",
    "- Objetivo: Ver tendencias en la adhesión de nuevos cineastas a lo largo del tiempo.  "
   ]
  },
  {
   "cell_type": "code",
   "execution_count": 22,
   "metadata": {},
   "outputs": [
    {
     "name": "stdout",
     "output_type": "stream",
     "text": [
      "Año de Ingreso: 1985, Cineastas: Roberto Díaz\n",
      "Año de Ingreso: 1990, Cineastas: Juan Pérez\n",
      "Año de Ingreso: 1998, Cineastas: Alejandro González\n",
      "Año de Ingreso: 2000, Cineastas: Carlos Méndez\n",
      "Año de Ingreso: 2003, Cineastas: Sofia Ramírez\n",
      "Año de Ingreso: 2005, Cineastas: Laura Fernández\n",
      "Año de Ingreso: 2010, Cineastas: Carla Mendoza\n",
      "Año de Ingreso: 2012, Cineastas: Elena Gutiérrez\n",
      "Año de Ingreso: 2015, Cineastas: Miguel Torres\n",
      "Año de Ingreso: 2018, Cineastas: Valeria Soto\n"
     ]
    }
   ],
   "source": [
    "def get_cineastas_por_ano():\n",
    "    query = \"\"\"\n",
    "    MATCH (p:Person)\n",
    "    RETURN p.yearJoined AS AñoIngreso, COLLECT(p.name) AS Cineastas\n",
    "    ORDER BY AñoIngreso\n",
    "    \"\"\"\n",
    "    with driver.session() as session:\n",
    "        result = session.run(query)\n",
    "        cineastas_por_ano = [{\"AñoIngreso\": record[\"AñoIngreso\"], \"Cineastas\": record[\"Cineastas\"]} for record in result]\n",
    "        return cineastas_por_ano\n",
    "\n",
    "cineastas_por_ano = get_cineastas_por_ano()\n",
    "\n",
    "for entry in cineastas_por_ano:\n",
    "    print(f\"Año de Ingreso: {entry['AñoIngreso']}, Cineastas: {', '.join(entry['Cineastas'])}\")"
   ]
  },
  {
   "cell_type": "markdown",
   "metadata": {},
   "source": [
    ">**Pista revelada:** Se descubre que los cineastas más **antiguos están retirándose o cambiando de carrera**."
   ]
  },
  {
   "cell_type": "markdown",
   "metadata": {},
   "source": [
    "### **Investigación 5:** Identificar las películas dirigidas por cada cineasta\n",
    "\n",
    "- Objetivo: Coleccionar los títulos de películas dirigidas por cada cineasta.  "
   ]
  },
  {
   "cell_type": "code",
   "execution_count": 23,
   "metadata": {},
   "outputs": [
    {
     "name": "stdout",
     "output_type": "stream",
     "text": [
      "Director: Alejandro González, Peliculas Dirigidas: El Último Acto, Destino Inesperado\n",
      "Director: Sofia Ramírez, Peliculas Dirigidas: Ciudad Oscura, Sueños Rotos\n",
      "Director: Juan Pérez, Peliculas Dirigidas: Fuego Interno, Horizonte Perdido, Más Allá del Miedo\n",
      "Director: Carla Mendoza, Peliculas Dirigidas: Sin Retorno, El Último Refugio\n",
      "Director: Miguel Torres, Peliculas Dirigidas: Caos Total, Código Secreto\n",
      "Director: Laura Fernández, Peliculas Dirigidas: Fantasmas del Pasado, Caminos Cruzados\n",
      "Director: Roberto Díaz, Peliculas Dirigidas: Guerra de Titanes, El Silencio Mortal, El Fin del Juego, Pánico en la Ciudad\n",
      "Director: Elena Gutiérrez, Peliculas Dirigidas: Dimensión Desconocida, La Verdad Prohibida\n",
      "Director: Carlos Méndez, Peliculas Dirigidas: El Espejo Roto, Lágrimas en el Viento, Colapso\n"
     ]
    }
   ],
   "source": [
    "def get_peliculas_dirigidas():\n",
    "    query = \"\"\"\n",
    "    MATCH (p:Person)-[:DIRECTED]->(m:Movie)\n",
    "    RETURN p.name AS Director, COLLECT(m.title) AS PeliculasDirigidas\n",
    "    \"\"\"\n",
    "    with driver.session() as session:\n",
    "        result = session.run(query)\n",
    "        peliculas_dirigidas = [{\"Director\": record[\"Director\"], \"PeliculasDirigidas\": record[\"PeliculasDirigidas\"]} for record in result]\n",
    "        return peliculas_dirigidas\n",
    "\n",
    "peliculas_dirigidas = get_peliculas_dirigidas()\n",
    "\n",
    "for entry in peliculas_dirigidas:\n",
    "    print(f\"Director: {entry['Director']}, Peliculas Dirigidas: {', '.join(entry['PeliculasDirigidas'])}\")"
   ]
  },
  {
   "cell_type": "markdown",
   "metadata": {},
   "source": [
    ">Pista revelada: Algunos directores clave han cambiado su enfoque a géneros más rentables, abandonando otros.\n"
   ]
  },
  {
   "cell_type": "markdown",
   "metadata": {},
   "source": [
    "### **Investigación 6:** Agrupar películas por género y director\n",
    "\n",
    "- Objetivo: Entender cómo los directores han diversificado su producción.  "
   ]
  },
  {
   "cell_type": "code",
   "execution_count": 24,
   "metadata": {},
   "outputs": [
    {
     "name": "stdout",
     "output_type": "stream",
     "text": [
      "Director: Alejandro González, Genero: Drama, Peliculas: El Último Acto\n",
      "Director: Alejandro González, Genero: Acción, Peliculas: Destino Inesperado\n",
      "Director: Carla Mendoza, Genero: Suspenso, Peliculas: Sin Retorno\n",
      "Director: Carla Mendoza, Genero: Drama, Peliculas: El Último Refugio\n",
      "Director: Carlos Méndez, Genero: Terror, Peliculas: El Espejo Roto\n",
      "Director: Carlos Méndez, Genero: Drama, Peliculas: Lágrimas en el Viento\n",
      "Director: Carlos Méndez, Genero: Ciencia Ficción, Peliculas: Colapso\n",
      "Director: Elena Gutiérrez, Genero: Ciencia Ficción, Peliculas: Dimensión Desconocida\n",
      "Director: Elena Gutiérrez, Genero: Suspenso, Peliculas: La Verdad Prohibida\n",
      "Director: Juan Pérez, Genero: Acción, Peliculas: Fuego Interno\n",
      "Director: Juan Pérez, Genero: Ciencia Ficción, Peliculas: Horizonte Perdido\n",
      "Director: Juan Pérez, Genero: Terror, Peliculas: Más Allá del Miedo\n",
      "Director: Laura Fernández, Genero: Suspenso, Peliculas: Fantasmas del Pasado\n",
      "Director: Laura Fernández, Genero: Drama, Peliculas: Caminos Cruzados\n",
      "Director: Miguel Torres, Genero: Ciencia Ficción, Peliculas: Caos Total\n",
      "Director: Miguel Torres, Genero: Acción, Peliculas: Código Secreto\n",
      "Director: Roberto Díaz, Genero: Acción, Peliculas: Guerra de Titanes, El Fin del Juego\n",
      "Director: Roberto Díaz, Genero: Terror, Peliculas: El Silencio Mortal\n",
      "Director: Roberto Díaz, Genero: Suspenso, Peliculas: Pánico en la Ciudad\n",
      "Director: Sofia Ramírez, Genero: Suspenso, Peliculas: Ciudad Oscura\n",
      "Director: Sofia Ramírez, Genero: Drama, Peliculas: Sueños Rotos\n"
     ]
    }
   ],
   "source": [
    "def get_peliculas_por_genero_y_director():\n",
    "    query = \"\"\"\n",
    "    MATCH (p:Person)-[:DIRECTED]->(m:Movie)-[:BELONGS_TO]->(g:Genre)\n",
    "    RETURN p.name AS Director, g.name AS Genero, COLLECT(m.title) AS Peliculas\n",
    "    ORDER BY Director\n",
    "    \"\"\"\n",
    "    with driver.session() as session:\n",
    "        result = session.run(query)\n",
    "        peliculas_por_genero_y_director = [{\"Director\": record[\"Director\"], \"Genero\": record[\"Genero\"], \"Peliculas\": record[\"Peliculas\"]} for record in result]\n",
    "        return peliculas_por_genero_y_director\n",
    "\n",
    "peliculas_por_genero_y_director = get_peliculas_por_genero_y_director()\n",
    "\n",
    "for entry in peliculas_por_genero_y_director:\n",
    "    print(f\"Director: {entry['Director']}, Genero: {entry['Genero']}, Peliculas: {', '.join(entry['Peliculas'])}\")"
   ]
  },
  {
   "cell_type": "markdown",
   "metadata": {},
   "source": [
    ">**Pista revelada:** Se observa una **diversificación de géneros** en los cineastas más recientes, probablemente para atraer a una audiencia más amplia."
   ]
  }
 ],
 "metadata": {
  "kernelspec": {
   "display_name": "venv",
   "language": "python",
   "name": "python3"
  },
  "language_info": {
   "codemirror_mode": {
    "name": "ipython",
    "version": 3
   },
   "file_extension": ".py",
   "mimetype": "text/x-python",
   "name": "python",
   "nbconvert_exporter": "python",
   "pygments_lexer": "ipython3",
   "version": "3.12.4"
  }
 },
 "nbformat": 4,
 "nbformat_minor": 2
}
