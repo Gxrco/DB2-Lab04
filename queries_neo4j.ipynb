{
 "cells": [
  {
   "cell_type": "markdown",
   "metadata": {},
   "source": [
    "# Laboratorio 04 | The Games of Nodes Part II\n",
    "\n",
    "Agregaciones en Neo4j (Cypher) usando Count, Collect y Size\n",
    "\n",
    "## Configuración del entorno"
   ]
  },
  {
   "cell_type": "code",
   "execution_count": 12,
   "metadata": {},
   "outputs": [],
   "source": [
    "from neo4j import GraphDatabase\n",
    "from dotenv import load_dotenv\n",
    "import os"
   ]
  },
  {
   "cell_type": "code",
   "execution_count": 13,
   "metadata": {},
   "outputs": [],
   "source": [
    "load_dotenv()\n",
    "\n",
    "uri =  os.getenv(\"NEO4J_URI\")         \n",
    "username = os.getenv(\"NEO4J_USERNAME\")                      \n",
    "password = os.getenv(\"NEO4J_PASSWORD\")\n",
    "\n",
    "driver = GraphDatabase.driver(uri, auth=(username, password))\n",
    "\n",
    "def close_connection():\n",
    "    driver.close()\n",
    "\n",
    "def verify_connection():\n",
    "    try:\n",
    "        with driver.session() as session:\n",
    "            result = session.run(\"RETURN 1 AS value\")\n",
    "            value = result.single()[\"value\"]\n",
    "            print(\"Connection successful. Result:\", value)\n",
    "    except Exception as e:\n",
    "        print(\"Connection failed:\", e)"
   ]
  },
  {
   "cell_type": "markdown",
   "metadata": {},
   "source": [
    "### Verificar la conexión"
   ]
  },
  {
   "cell_type": "code",
   "execution_count": 10,
   "metadata": {},
   "outputs": [
    {
     "name": "stdout",
     "output_type": "stream",
     "text": [
      "Connection successful. Result: 1\n"
     ]
    },
    {
     "name": "stderr",
     "output_type": "stream",
     "text": [
      "C:\\Users\\diego\\AppData\\Local\\Temp\\ipykernel_10872\\2394711248.py:14: DeprecationWarning: Using a driver after it has been closed is deprecated. Future versions of the driver will raise an error.\n",
      "  with driver.session() as session:\n"
     ]
    }
   ],
   "source": [
    "verify_connection()\n",
    "close_connection()\n"
   ]
  },
  {
   "cell_type": "markdown",
   "metadata": {},
   "source": [
    "# 🔎 Acto 01: El Descenso de los Cineastas\n",
    "Somos detectives de datos en NeoCity, donde cada persona, lugar y evento está conectado en un vasto grafo. Últimamente, la comunidad de cineastas ha visto una caída en el número de directores activos, y nos han contratado para averiguar por qué."
   ]
  },
  {
   "cell_type": "markdown",
   "metadata": {},
   "source": [
    "### **Investigación 1:** Determinar la cantidad de cineastas antes y después de 2010\n",
    "- **Objetivo:** Determinar cuántos cineastas han ingresado a la industria antes y después del 2010."
   ]
  },
  {
   "cell_type": "code",
   "execution_count": 22,
   "metadata": {},
   "outputs": [
    {
     "name": "stdout",
     "output_type": "stream",
     "text": [
      "Cineastas antes de 2010: 6\n",
      "Cineastas después de 2010: 4\n"
     ]
    }
   ],
   "source": [
    "def get_arround_2010():\n",
    "  query1 = \"\"\"\n",
    "    MATCH (p:Person)\n",
    "    WHERE p.yearJoined < 2010\n",
    "    RETURN COUNT(p) AS CineastasAntes\n",
    "  \"\"\"\n",
    "  query2 = \"\"\"\n",
    "    MATCH (p:Person)\n",
    "    WHERE p.yearJoined >= 2010\n",
    "    RETURN COUNT(p) AS CineastasDespues\n",
    "  \"\"\"\n",
    "  with driver.session() as session:\n",
    "    result1 = session.run(query1)\n",
    "    cineastas_antes = result1.single()[\"CineastasAntes\"]\n",
    "    \n",
    "    result2 = session.run(query2)\n",
    "    cineastas_despues = result2.single()[\"CineastasDespues\"]\n",
    "    \n",
    "    return cineastas_antes, cineastas_despues\n",
    "\n",
    "cineastas_antes_2010, cineastas_despues_2010 = get_arround_2010()\n",
    "print(\"Cineastas antes de 2010:\", cineastas_antes_2010)\n",
    "print(\"Cineastas después de 2010:\", cineastas_despues_2010)"
   ]
  },
  {
   "cell_type": "markdown",
   "metadata": {},
   "source": [
    ">Pista revelada: Se ha determinado una notable disminución en la contratación de nuevos cineastas después de 2010."
   ]
  },
  {
   "cell_type": "markdown",
   "metadata": {},
   "source": [
    "### **Investigación 2:** Analizar los cambios en la industria con base en los géneros\n",
    "- **Objetivo:** Investigar los cambios en la industria que podrían estar relacionados con los géneros de las películas. Uso de COUNT()."
   ]
  },
  {
   "cell_type": "code",
   "execution_count": 28,
   "metadata": {},
   "outputs": [
    {
     "name": "stdout",
     "output_type": "stream",
     "text": [
      "Genero: Drama, NumPeliculas: 6\n",
      "Genero: Acción, NumPeliculas: 6\n",
      "Genero: Suspenso, NumPeliculas: 5\n",
      "Genero: Ciencia Ficción, NumPeliculas: 4\n",
      "Genero: Terror, NumPeliculas: 3\n",
      "Genero: Comedia, NumPeliculas: 1\n"
     ]
    }
   ],
   "source": [
    "def get_movie_genres_count():\n",
    "  query = \"\"\"\n",
    "  MATCH (m:Movie)-[:BELONGS_TO]->(g:Genre)\n",
    "  RETURN g.name AS Genero, COUNT(m) AS NumPeliculas\n",
    "  ORDER BY NumPeliculas DESC\n",
    "  \"\"\"\n",
    "  with driver.session() as session:\n",
    "    result = session.run(query)\n",
    "    genres_count = [{\"Genero\": record[\"Genero\"], \"NumPeliculas\": record[\"NumPeliculas\"]} for record in result]\n",
    "    return genres_count\n",
    "\n",
    "movie_genres_count = get_movie_genres_count()\n",
    "\n",
    "for genre in movie_genres_count:\n",
    "    print(f\"Genero: {genre['Genero']}, NumPeliculas: {genre['NumPeliculas']}\")"
   ]
  },
  {
   "cell_type": "markdown",
   "metadata": {},
   "source": [
    ">Pista revelada: Se observa que algunos géneros, como el suspenso y la acción, han visto un aumento en producción, mientras que otros han decaído."
   ]
  },
  {
   "cell_type": "markdown",
   "metadata": {},
   "source": [
    "###  **Investigación 3:** ¿Cómo ha afectado la disminución de cineastas a las colaboraciones?\n",
    "- Objetivo: Investigar si la disminución de cineastas ha afectado la colaboración dentro de la comunidad. Uso de COUNT()."
   ]
  },
  {
   "cell_type": "code",
   "execution_count": 29,
   "metadata": {},
   "outputs": [
    {
     "name": "stderr",
     "output_type": "stream",
     "text": [
      "Received notification from DBMS server: {severity: WARNING} {code: Neo.ClientNotification.Statement.UnknownRelationshipTypeWarning} {category: UNRECOGNIZED} {title: The provided relationship type is not in the database.} {description: One of the relationship types in your query is not available in the database, make sure you didn't misspell it or that the label is available when you run this statement in your application (the missing relationship type is: COLLABORATED_WITH)} {position: line: 2, column: 22, offset: 22} for query: '\\n  MATCH (p:Person)-[:COLLABORATED_WITH]->(colleague)\\n  RETURN COUNT(DISTINCT p) AS CineastasColaborando\\n  '\n"
     ]
    },
    {
     "name": "stdout",
     "output_type": "stream",
     "text": [
      "Colaboraciones entre cineastas: 0\n"
     ]
    }
   ],
   "source": [
    "def get_collaborations_count():\n",
    "  query = \"\"\"\n",
    "  MATCH (p:Person)-[:COLLABORATED_WITH]->(colleague)\n",
    "  RETURN COUNT(DISTINCT p) AS CineastasColaborando\n",
    "  \"\"\"\n",
    "  with driver.session() as session:\n",
    "    result = session.run(query)\n",
    "    collaborations_count = result.single()[\"CineastasColaborando\"]\n",
    "    return collaborations_count\n",
    "\n",
    "collaborations_count = get_collaborations_count()\n",
    "print(\"Colaboraciones entre cineastas:\", collaborations_count)"
   ]
  },
  {
   "cell_type": "markdown",
   "metadata": {},
   "source": [
    ">Pista revelada: Las colaboraciones han aumentado, lo que sugiere que la comunidad cinematográfica es más unida y competitiva que antes."
   ]
  }
 ],
 "metadata": {
  "kernelspec": {
   "display_name": "venv",
   "language": "python",
   "name": "python3"
  },
  "language_info": {
   "codemirror_mode": {
    "name": "ipython",
    "version": 3
   },
   "file_extension": ".py",
   "mimetype": "text/x-python",
   "name": "python",
   "nbconvert_exporter": "python",
   "pygments_lexer": "ipython3",
   "version": "3.12.4"
  }
 },
 "nbformat": 4,
 "nbformat_minor": 2
}
