{
 "cells": [
  {
   "cell_type": "markdown",
   "metadata": {},
   "source": [
    "# Laboratorio 04 | The Games of Nodes Part II\n",
    "\n",
    "Agregaciones en Neo4j (Cypher) usando Count, Collect y Size\n",
    "\n",
    "## Configuración del entorno"
   ]
  },
  {
   "cell_type": "code",
   "execution_count": 3,
   "metadata": {},
   "outputs": [],
   "source": [
    "from neo4j import GraphDatabase\n",
    "\n",
    "uri = \"<URI>\"         \n",
    "username = \"<USERNAME>\"                      \n",
    "password = \"<PASSWORD>\"\n",
    "\n",
    "driver = GraphDatabase.driver(uri, auth=(username, password))\n",
    "\n",
    "def close_connection():\n",
    "    driver.close()\n",
    "\n",
    "def verify_connection():\n",
    "    try:\n",
    "        with driver.session() as session:\n",
    "            result = session.run(\"RETURN 1 AS value\")\n",
    "            value = result.single()[\"value\"]\n",
    "            print(\"Connection successful. Result:\", value)\n",
    "    except Exception as e:\n",
    "        print(\"Connection failed:\", e)"
   ]
  },
  {
   "cell_type": "markdown",
   "metadata": {},
   "source": [
    "### Verificar la conexión"
   ]
  },
  {
   "cell_type": "code",
   "execution_count": 4,
   "metadata": {},
   "outputs": [
    {
     "name": "stdout",
     "output_type": "stream",
     "text": [
      "Connection successful. Result: 1\n"
     ]
    }
   ],
   "source": [
    "verify_connection()\n",
    "close_connection()"
   ]
  }
 ],
 "metadata": {
  "kernelspec": {
   "display_name": "venv",
   "language": "python",
   "name": "python3"
  },
  "language_info": {
   "codemirror_mode": {
    "name": "ipython",
    "version": 3
   },
   "file_extension": ".py",
   "mimetype": "text/x-python",
   "name": "python",
   "nbconvert_exporter": "python",
   "pygments_lexer": "ipython3",
   "version": "3.13.0"
  }
 },
 "nbformat": 4,
 "nbformat_minor": 2
}
